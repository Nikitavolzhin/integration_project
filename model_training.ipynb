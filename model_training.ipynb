{
 "cells": [
  {
   "cell_type": "markdown",
   "id": "8004a690-0f03-4848-acda-98d6424d844f",
   "metadata": {},
   "source": [
    "# MLFlow experiment"
   ]
  },
  {
   "cell_type": "code",
   "execution_count": 1,
   "id": "c9e54719-69a2-482a-946f-4c090d4bba08",
   "metadata": {},
   "outputs": [],
   "source": [
    "import numpy as np\n",
    "import pandas as pd\n",
    "import math\n",
    "import mlflow\n",
    "from sklearn.model_selection import train_test_split\n",
    "from sklearn.preprocessing import StandardScaler\n",
    "from sklearn.linear_model import SGDRegressor\n",
    "from sklearn.metrics import r2_score\n",
    "from sklearn.svm import SVR\n",
    "from mlflow.models import infer_signature\n",
    "from sklearn.metrics import mean_squared_error\n",
    "import pickle\n",
    "\n",
    "#imports for type hinting\n",
    "from typing import Tuple, Dict, Any\n",
    "from sklearn.base import BaseEstimator"
   ]
  },
  {
   "cell_type": "code",
   "execution_count": 2,
   "id": "5265de5c-219a-4da8-91c3-507b4a98f5ac",
   "metadata": {},
   "outputs": [
    {
     "name": "stdout",
     "output_type": "stream",
     "text": [
      "MLFlow: 2.14.0\n"
     ]
    }
   ],
   "source": [
    "print(\"MLFlow: {}\".format(mlflow.__version__))"
   ]
  },
  {
   "cell_type": "markdown",
   "id": "e88e5dbe-a49d-4bf4-9c85-a0a7a4dd9b24",
   "metadata": {},
   "source": [
    "## Functions definition"
   ]
  },
  {
   "cell_type": "code",
   "execution_count": 3,
   "id": "f87f1aec-ae64-4851-9927-da82313a168f",
   "metadata": {},
   "outputs": [],
   "source": [
    "#imports  dataset and splits it into X matrix and y vector\n",
    "def preprocess_split(path: str) -> Tuple[np.ndarray, np.ndarray, np.ndarray, np.ndarray]:\n",
    "    dataset = pd.read_csv(path)\n",
    "    X = dataset.iloc[:, :-1].values\n",
    "    y = dataset.iloc[:, -1].values\n",
    "    return train_test_split(X, y)\n",
    "\n",
    "#standartizes the dataset the first time and saves the scaler\n",
    "def preprocess_first_scale(X_train: np.ndarray, X_test: np.ndarray) -> Tuple[np.ndarray, np.ndarray]:\n",
    "    scaler = StandardScaler()\n",
    "    X_train = scaler.fit_transform(X_train)\n",
    "    with open('models/scaler.pkl', 'wb') as f:\n",
    "        pickle.dump(scaler, f)\n",
    "    X_test = scaler.transform(X_test)\n",
    "    return X_train, X_test\n",
    "\n",
    "#standartizes the dataset the using already saved scaler\n",
    "def preprocess_scale(X_test: np.ndarray) -> np.ndarray:\n",
    "    scaler = StandardScaler()\n",
    "    with open('models/scaler.pkl', 'rb') as f:\n",
    "        scaler = pickle.load(f)\n",
    "    X_test = scaler.transform(X_test)\n",
    "    return X_test"
   ]
  },
  {
   "cell_type": "code",
   "execution_count": 4,
   "id": "88f8dcfc-278a-44fb-9e05-04987daffa8f",
   "metadata": {},
   "outputs": [],
   "source": [
    "#trains a given ml model on the gien dataset, measures and logs the performance\n",
    "def train(model: BaseEstimator, X_train: np.ndarray, y_train: np.ndarray) -> None:\n",
    "    model.fit(X_train, y_train)\n",
    "    train_acc = model.score(X_train, y_train)\n",
    "    mlflow.log_metric(\"Training Accuracy\", train_acc)\n",
    "    print(f\"Train Accuracy: {train_acc:.3%}\")"
   ]
  },
  {
   "cell_type": "code",
   "execution_count": 5,
   "id": "3465306c-18d8-4188-9539-a8de51c1c3f1",
   "metadata": {},
   "outputs": [],
   "source": [
    "#evaluates and logs a models's performance on a test set\n",
    "def evaluate(model: BaseEstimator, X_test: np.ndarray, y_test: np.ndarray) -> Tuple[float, float]:\n",
    "    y_pred = model.predict(X_test)\n",
    "    r2 =  r2_score(y_test, y_pred)\n",
    "    mse = mean_squared_error(y_test, y_pred)\n",
    "    mlflow.log_metric(\"r2\", r2)\n",
    "    mlflow.log_metric(\"mean_squared_error\", mse)\n",
    "    return r2, mse"
   ]
  },
  {
   "cell_type": "code",
   "execution_count": 6,
   "id": "6668e6b2-3ed6-4fe3-bd7d-c994bfe86238",
   "metadata": {},
   "outputs": [],
   "source": [
    "#functions for saving and loading sklearn models\n",
    "def model_save(model: BaseEstimator, path: str) -> None:\n",
    "    with open(path, 'wb') as f:\n",
    "        pickle.dump(model, f)\n",
    "\n",
    "def model_load(path: str) -> BaseEstimator:\n",
    "    with open(path, 'rb') as f:\n",
    "        model = pickle.load(f)\n",
    "    return model"
   ]
  },
  {
   "cell_type": "code",
   "execution_count": 7,
   "id": "7df3454a-6946-429c-aa55-6a5f594bd54d",
   "metadata": {},
   "outputs": [],
   "source": [
    "#this function creates a new mlflow run. One has to provide sklearn model, name of run, path to the dataset, and hyperparameters used \n",
    "def mlflow_run(model: BaseEstimator, name: str, path: str, params: Dict[str, Any]) -> Tuple[Dict[str, Any], float]:\n",
    "    with mlflow.start_run(run_name=name):\n",
    "        X_train, X_test, y_train, y_test = preprocess_split(path)\n",
    "        X_train, X_test = preprocess_first_scale(X_train, X_test)\n",
    "        train(model, X_train, y_train)\n",
    "        r2, mse = evaluate(model, X_test, y_test)\n",
    "        mlflow.log_params(params)\n",
    "        mlflow.set_tag(\"Training Info\", \"Regression model for integration data\")\n",
    "        signature = infer_signature(X_train, model.predict(X_train))\n",
    "        model_info = mlflow.sklearn.log_model(\n",
    "            sk_model=model,\n",
    "            artifact_path=name,\n",
    "            signature=signature,\n",
    "            input_example=X_train,\n",
    "            registered_model_name=name,\n",
    "        )\n",
    "    return model_info, r2"
   ]
  },
  {
   "cell_type": "markdown",
   "id": "fdedee75-5fda-4b39-afcf-7be8806480dc",
   "metadata": {},
   "source": [
    "## Setting experiment"
   ]
  },
  {
   "cell_type": "code",
   "execution_count": 8,
   "id": "9a5dfed1-a423-4c29-a744-c5ce63bb528a",
   "metadata": {},
   "outputs": [],
   "source": [
    "mlflow.set_tracking_uri(uri=\"http://127.0.0.1:8000\")"
   ]
  },
  {
   "cell_type": "code",
   "execution_count": 9,
   "id": "cea56d84-0214-4610-907e-65ef497a6902",
   "metadata": {},
   "outputs": [
    {
     "data": {
      "text/plain": [
       "<Experiment: artifact_location='mlflow-artifacts:/413595962434341677', creation_time=1721302419534, experiment_id='413595962434341677', last_update_time=1721302419534, lifecycle_stage='active', name='Integration experiment', tags={}>"
      ]
     },
     "execution_count": 9,
     "metadata": {},
     "output_type": "execute_result"
    }
   ],
   "source": [
    "mlflow.set_experiment(\"Integration experiment\")"
   ]
  },
  {
   "cell_type": "code",
   "execution_count": 10,
   "id": "ca8e643a-95fd-4c7c-8bdf-7b98aa13607c",
   "metadata": {},
   "outputs": [],
   "source": [
    "#definting parameters for the \n",
    "sgd_params = {\n",
    "    \"max_iter\": 1000,\n",
    "    \"loss\": \"squared_error\",\n",
    "    \"penalty\": \"l2\",\n",
    "    \"eta0\": 0.01,\n",
    "    \"tol\": 1e-3,\n",
    "    \"random_state\": 42,\n",
    "}\n",
    "\n",
    "svr_params = {\n",
    "    \"kernel\":'rbf', \n",
    "    \"degree\":3,\n",
    "}\n",
    "deg = [2, 3, 4, 5]\n",
    "\n",
    "scores = list()\n",
    "infos = list()"
   ]
  },
  {
   "cell_type": "code",
   "execution_count": 11,
   "id": "c8bed772-3acb-46ed-9f6e-3069884fa76b",
   "metadata": {},
   "outputs": [],
   "source": [
    "sgd = SGDRegressor(**sgd_params)"
   ]
  },
  {
   "cell_type": "code",
   "execution_count": 12,
   "id": "ed3f56da-d567-453d-977c-ac87d13caeca",
   "metadata": {},
   "outputs": [
    {
     "name": "stdout",
     "output_type": "stream",
     "text": [
      "Train Accuracy: 98.402%\n"
     ]
    },
    {
     "name": "stderr",
     "output_type": "stream",
     "text": [
      "Registered model 'sgd_regressor' already exists. Creating a new version of this model...\n",
      "2024/07/20 16:58:35 INFO mlflow.store.model_registry.abstract_store: Waiting up to 300 seconds for model version to finish creation. Model name: sgd_regressor, version 2\n",
      "Created version '2' of model 'sgd_regressor'.\n"
     ]
    }
   ],
   "source": [
    "info_sgd, r2 = mlflow_run(sgd, \"sgd_regressor\", \"data/trigo.csv\", sgd_params)\n",
    "scores.append(r2)\n",
    "infos.append(info_sgd)"
   ]
  },
  {
   "cell_type": "code",
   "execution_count": 13,
   "id": "972b57f3-b377-4628-8f82-0a5349e1d04a",
   "metadata": {},
   "outputs": [
    {
     "name": "stdout",
     "output_type": "stream",
     "text": [
      "Train Accuracy: 98.478%\n"
     ]
    },
    {
     "name": "stderr",
     "output_type": "stream",
     "text": [
      "Registered model 'svr_regressor with degree 2' already exists. Creating a new version of this model...\n",
      "2024/07/20 16:58:40 INFO mlflow.store.model_registry.abstract_store: Waiting up to 300 seconds for model version to finish creation. Model name: svr_regressor with degree 2, version 2\n",
      "Created version '2' of model 'svr_regressor with degree 2'.\n"
     ]
    },
    {
     "name": "stdout",
     "output_type": "stream",
     "text": [
      "Train Accuracy: 98.578%\n"
     ]
    },
    {
     "name": "stderr",
     "output_type": "stream",
     "text": [
      "Registered model 'svr_regressor with degree 3' already exists. Creating a new version of this model...\n",
      "2024/07/20 16:58:44 INFO mlflow.store.model_registry.abstract_store: Waiting up to 300 seconds for model version to finish creation. Model name: svr_regressor with degree 3, version 2\n",
      "Created version '2' of model 'svr_regressor with degree 3'.\n"
     ]
    },
    {
     "name": "stdout",
     "output_type": "stream",
     "text": [
      "Train Accuracy: 98.472%\n"
     ]
    },
    {
     "name": "stderr",
     "output_type": "stream",
     "text": [
      "Registered model 'svr_regressor with degree 4' already exists. Creating a new version of this model...\n",
      "2024/07/20 16:58:46 INFO mlflow.store.model_registry.abstract_store: Waiting up to 300 seconds for model version to finish creation. Model name: svr_regressor with degree 4, version 2\n",
      "Created version '2' of model 'svr_regressor with degree 4'.\n"
     ]
    },
    {
     "name": "stdout",
     "output_type": "stream",
     "text": [
      "Train Accuracy: 98.455%\n"
     ]
    },
    {
     "name": "stderr",
     "output_type": "stream",
     "text": [
      "Registered model 'svr_regressor with degree 5' already exists. Creating a new version of this model...\n",
      "2024/07/20 16:58:49 INFO mlflow.store.model_registry.abstract_store: Waiting up to 300 seconds for model version to finish creation. Model name: svr_regressor with degree 5, version 2\n",
      "Created version '2' of model 'svr_regressor with degree 5'.\n"
     ]
    }
   ],
   "source": [
    "for i in deg:\n",
    "    svr_params[\"degree\"] = i\n",
    "    svr = SVR(**svr_params)\n",
    "    info_svr, r2 = mlflow_run(svr, \"svr_regressor with degree {}\".format(str(i)), \"data/trigo.csv\", svr_params)\n",
    "    scores.append(r2)\n",
    "    infos.append(info_svr)"
   ]
  },
  {
   "cell_type": "markdown",
   "id": "31c2deed-3477-4b42-bc9f-039e7df898d3",
   "metadata": {},
   "source": [
    "## Load the model back for predictions as a generic Python Function model"
   ]
  },
  {
   "cell_type": "code",
   "execution_count": 14,
   "id": "583d5535-6d77-4c9b-946e-0131d5e287bd",
   "metadata": {},
   "outputs": [
    {
     "name": "stdout",
     "output_type": "stream",
     "text": [
      "[0.9861494226625116, 0.9833225039917809, 0.9811579886620382, 0.982810041989036, 0.9843699097582242]\n"
     ]
    }
   ],
   "source": [
    "print(scores)"
   ]
  },
  {
   "cell_type": "code",
   "execution_count": 15,
   "id": "f543ffd0-e4e6-4cb7-9364-41190ca3d569",
   "metadata": {},
   "outputs": [],
   "source": [
    "uri_of_model = infos[scores.index(max(scores))].model_uri"
   ]
  },
  {
   "cell_type": "code",
   "execution_count": 16,
   "id": "30105a95-eda1-46e6-befc-68378d86abb3",
   "metadata": {},
   "outputs": [
    {
     "name": "stderr",
     "output_type": "stream",
     "text": [
      "C:\\Users\\Nikita\\AppData\\Local\\Packages\\PythonSoftwareFoundation.Python.3.12_qbz5n2kfra8p0\\LocalCache\\local-packages\\Python312\\site-packages\\tqdm\\auto.py:21: TqdmWarning: IProgress not found. Please update jupyter and ipywidgets. See https://ipywidgets.readthedocs.io/en/stable/user_install.html\n",
      "  from .autonotebook import tqdm as notebook_tqdm\n",
      "Downloading artifacts: 100%|███████████████████████████████████████████████████████████| 10/10 [00:00<00:00, 76.65it/s]\n"
     ]
    }
   ],
   "source": [
    "loaded_model = mlflow.pyfunc.load_model(uri_of_model)"
   ]
  },
  {
   "cell_type": "code",
   "execution_count": 17,
   "id": "1d9f5698-fe43-4c5a-bd3d-e5a11a152683",
   "metadata": {},
   "outputs": [],
   "source": [
    "X_train, X_test, y_train, y_test = preprocess_split(\"data/trigo.csv\")\n",
    "X_train, X_test = preprocess_first_scale(X_train, X_test)"
   ]
  },
  {
   "cell_type": "code",
   "execution_count": 18,
   "id": "19d3416c-9c9d-4338-80b2-4d2f4c0c1d75",
   "metadata": {},
   "outputs": [],
   "source": [
    "predictions = loaded_model.predict(X_test)"
   ]
  },
  {
   "cell_type": "code",
   "execution_count": 19,
   "id": "6c7262f8-9acf-47cd-83eb-8aa02662e9d2",
   "metadata": {},
   "outputs": [
    {
     "data": {
      "text/html": [
       "<div>\n",
       "<style scoped>\n",
       "    .dataframe tbody tr th:only-of-type {\n",
       "        vertical-align: middle;\n",
       "    }\n",
       "\n",
       "    .dataframe tbody tr th {\n",
       "        vertical-align: top;\n",
       "    }\n",
       "\n",
       "    .dataframe thead th {\n",
       "        text-align: right;\n",
       "    }\n",
       "</style>\n",
       "<table border=\"1\" class=\"dataframe\">\n",
       "  <thead>\n",
       "    <tr style=\"text-align: right;\">\n",
       "      <th></th>\n",
       "      <th>0</th>\n",
       "      <th>1</th>\n",
       "      <th>2</th>\n",
       "      <th>3</th>\n",
       "      <th>4</th>\n",
       "      <th>actual_value</th>\n",
       "      <th>predicted_value</th>\n",
       "    </tr>\n",
       "  </thead>\n",
       "  <tbody>\n",
       "    <tr>\n",
       "      <th>0</th>\n",
       "      <td>-0.238604</td>\n",
       "      <td>1.084306</td>\n",
       "      <td>1.653479</td>\n",
       "      <td>0.208665</td>\n",
       "      <td>-0.470680</td>\n",
       "      <td>1.701229</td>\n",
       "      <td>1.683011</td>\n",
       "    </tr>\n",
       "    <tr>\n",
       "      <th>1</th>\n",
       "      <td>0.123408</td>\n",
       "      <td>0.311506</td>\n",
       "      <td>0.217718</td>\n",
       "      <td>0.229903</td>\n",
       "      <td>-0.250455</td>\n",
       "      <td>1.013131</td>\n",
       "      <td>1.043823</td>\n",
       "    </tr>\n",
       "    <tr>\n",
       "      <th>2</th>\n",
       "      <td>-0.067284</td>\n",
       "      <td>0.387019</td>\n",
       "      <td>0.619371</td>\n",
       "      <td>0.609699</td>\n",
       "      <td>-0.239971</td>\n",
       "      <td>1.262944</td>\n",
       "      <td>1.264240</td>\n",
       "    </tr>\n",
       "    <tr>\n",
       "      <th>3</th>\n",
       "      <td>-0.299455</td>\n",
       "      <td>0.272204</td>\n",
       "      <td>-0.352473</td>\n",
       "      <td>-0.644197</td>\n",
       "      <td>0.520732</td>\n",
       "      <td>0.657563</td>\n",
       "      <td>0.677355</td>\n",
       "    </tr>\n",
       "  </tbody>\n",
       "</table>\n",
       "</div>"
      ],
      "text/plain": [
       "          0         1         2         3         4  actual_value  \\\n",
       "0 -0.238604  1.084306  1.653479  0.208665 -0.470680      1.701229   \n",
       "1  0.123408  0.311506  0.217718  0.229903 -0.250455      1.013131   \n",
       "2 -0.067284  0.387019  0.619371  0.609699 -0.239971      1.262944   \n",
       "3 -0.299455  0.272204 -0.352473 -0.644197  0.520732      0.657563   \n",
       "\n",
       "   predicted_value  \n",
       "0         1.683011  \n",
       "1         1.043823  \n",
       "2         1.264240  \n",
       "3         0.677355  "
      ]
     },
     "execution_count": 19,
     "metadata": {},
     "output_type": "execute_result"
    }
   ],
   "source": [
    "result = pd.DataFrame(X_test)\n",
    "result[\"actual_value\"] = y_test\n",
    "result[\"predicted_value\"] = predictions\n",
    "\n",
    "result[:4]"
   ]
  },
  {
   "cell_type": "code",
   "execution_count": 20,
   "id": "412da005-6619-4a5c-ad2b-19637176b23d",
   "metadata": {},
   "outputs": [],
   "source": [
    "model_save(loaded_model, \"models/model.pkl\")"
   ]
  }
 ],
 "metadata": {
  "kernelspec": {
   "display_name": "Python 3 (ipykernel)",
   "language": "python",
   "name": "python3"
  },
  "language_info": {
   "codemirror_mode": {
    "name": "ipython",
    "version": 3
   },
   "file_extension": ".py",
   "mimetype": "text/x-python",
   "name": "python",
   "nbconvert_exporter": "python",
   "pygments_lexer": "ipython3",
   "version": "3.12.4"
  }
 },
 "nbformat": 4,
 "nbformat_minor": 5
}
