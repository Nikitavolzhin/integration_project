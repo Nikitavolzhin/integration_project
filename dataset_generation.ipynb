{
 "cells": [
  {
   "cell_type": "markdown",
   "id": "58ed7950-6dce-46bf-86ec-be69334c24b5",
   "metadata": {},
   "source": [
    "# Dataset generation"
   ]
  },
  {
   "cell_type": "code",
   "execution_count": 1,
   "id": "9bba64a6-9bfa-4553-bf1e-7e88cf406446",
   "metadata": {},
   "outputs": [],
   "source": [
    "import numpy as np\n",
    "import pandas as pd\n",
    "import math\n",
    "import platform"
   ]
  },
  {
   "cell_type": "code",
   "execution_count": 2,
   "id": "d593429b-0f5c-4260-a51b-729d8065a9ae",
   "metadata": {},
   "outputs": [
    {
     "name": "stdout",
     "output_type": "stream",
     "text": [
      "3.12.4\n"
     ]
    }
   ],
   "source": [
    "print(platform.python_version())"
   ]
  },
  {
   "cell_type": "markdown",
   "id": "a1fed5ca-40ca-4444-bbde-7850a94b7fd2",
   "metadata": {},
   "source": [
    "## Only trigonometric dataset"
   ]
  },
  {
   "cell_type": "code",
   "execution_count": 3,
   "id": "e339d05b-7e5e-4b65-abd2-a7d5d9c8778a",
   "metadata": {},
   "outputs": [],
   "source": [
    "trigonometric = (\n",
    "              (lambda x: math.cos(x)), \n",
    "              (lambda x: math.sin(x)),\n",
    "              (lambda x: math.tan(0.5*x)),\n",
    ")"
   ]
  },
  {
   "cell_type": "code",
   "execution_count": 4,
   "id": "0eed6a1c-5eec-4480-a735-b7c4210ef2bf",
   "metadata": {},
   "outputs": [],
   "source": [
    "trig_antider = (\n",
    "              (lambda x: math.sin(x)),\n",
    "              (lambda x: -math.cos(x)),\n",
    "              (lambda x: -2*math.log(abs(math.cos(0.5*x)))),\n",
    ")"
   ]
  },
  {
   "cell_type": "code",
   "execution_count": 5,
   "id": "121e0016-b6fb-4c1b-9223-f3992d89bed0",
   "metadata": {},
   "outputs": [],
   "source": [
    "#creating a matrix of coefficients for functions\n",
    "trigo_coeff = np.random.rand(1000, 3)"
   ]
  },
  {
   "cell_type": "code",
   "execution_count": 6,
   "id": "3a56e7be-fc6a-474e-843d-1ec8f726ad89",
   "metadata": {},
   "outputs": [],
   "source": [
    "#getting values of elementary trigonometric functions at points -2, -1, 0, 1, 2\n",
    "values = list()\n",
    "for i in trigonometric:\n",
    "    row = list()\n",
    "    for j in range(-2, 3):\n",
    "        row.append(i(j))\n",
    "    values.append(row)\n",
    "trigo_val = np.array(values)"
   ]
  },
  {
   "cell_type": "code",
   "execution_count": 7,
   "id": "a2f2e868-c94c-4442-8d38-8e9a64803348",
   "metadata": {},
   "outputs": [],
   "source": [
    "#getting values of sum of trigonometric functions at points -2, -1, 0, 1, 2\n",
    "X_trigo = trigo_coeff.dot(trigo_val)"
   ]
  },
  {
   "cell_type": "markdown",
   "id": "d309b846-b0f1-4cde-bace-091a9e5cbe17",
   "metadata": {},
   "source": [
    "### Adding noise to the dataset"
   ]
  },
  {
   "cell_type": "code",
   "execution_count": 8,
   "id": "5b63391b-fcaa-4d69-8aa4-d8d5f2f7b140",
   "metadata": {},
   "outputs": [
    {
     "data": {
      "text/plain": [
       "(1000, 5)"
      ]
     },
     "execution_count": 8,
     "metadata": {},
     "output_type": "execute_result"
    }
   ],
   "source": [
    "X_trigo.shape"
   ]
  },
  {
   "cell_type": "code",
   "execution_count": 9,
   "id": "822e1ec9-62af-48d5-a3f6-b856822c5b7d",
   "metadata": {},
   "outputs": [],
   "source": [
    "noise = np.random.normal(0, 0.05, (1000, 5))"
   ]
  },
  {
   "cell_type": "code",
   "execution_count": 10,
   "id": "3a348f42-e67a-4229-a5d6-11527ac5940c",
   "metadata": {},
   "outputs": [],
   "source": [
    "X_trigo = X_trigo + noise"
   ]
  },
  {
   "cell_type": "code",
   "execution_count": 11,
   "id": "c36a8c44-9f8c-4c0d-b06c-e7f94895eb5c",
   "metadata": {},
   "outputs": [],
   "source": [
    "#for each trigonometric function calculating their antiderivative on [-2, 2]\n",
    "simple_trig_integrals = list()\n",
    "for i in trig_antider:\n",
    "    simple_trig_integrals.append(i(2) - i(-2))\n",
    "simple_trig_integrals = np.array(simple_trig_integrals)"
   ]
  },
  {
   "cell_type": "code",
   "execution_count": 12,
   "id": "cb3147c1-1f0e-4061-8574-768b0eba8e0f",
   "metadata": {},
   "outputs": [],
   "source": [
    "#calculating a vector of antiderivatives for final trigonometric functions\n",
    "y_trigo = trigo_coeff.dot(simple_trig_integrals)"
   ]
  },
  {
   "cell_type": "code",
   "execution_count": 13,
   "id": "a847fd57-05a1-46fd-9f02-3cc986ba9df8",
   "metadata": {},
   "outputs": [],
   "source": [
    "trigo_dataset = np.concatenate([X_trigo, y_trigo.reshape(1000, 1),], axis=1)"
   ]
  },
  {
   "cell_type": "code",
   "execution_count": 14,
   "id": "abb67e04-b814-474a-b323-e915320328f9",
   "metadata": {},
   "outputs": [
    {
     "data": {
      "text/plain": [
       "(1000, 6)"
      ]
     },
     "execution_count": 14,
     "metadata": {},
     "output_type": "execute_result"
    }
   ],
   "source": [
    "trigo_dataset.shape"
   ]
  },
  {
   "cell_type": "code",
   "execution_count": 15,
   "id": "64c201bd-73e4-4d44-8583-6959d110f0c3",
   "metadata": {},
   "outputs": [
    {
     "data": {
      "text/plain": [
       "array([[-1.78659321, -0.12146811,  0.89754167,  1.03644   ,  1.05674453,\n",
       "         1.63021706],\n",
       "       [-1.68638947, -0.91497973,  0.15534723,  1.01940385,  1.60155753,\n",
       "         0.13371362],\n",
       "       [-2.24532771, -1.10715657,  0.33387089,  1.37360143,  1.9695764 ,\n",
       "         0.49764851],\n",
       "       [-0.7542702 ,  0.06850466,  0.63807578,  0.60821154,  0.23312502,\n",
       "         1.04076463],\n",
       "       [-2.09784579, -0.97864456,  0.25635244,  1.15769144,  1.83381045,\n",
       "         0.51286995]])"
      ]
     },
     "execution_count": 15,
     "metadata": {},
     "output_type": "execute_result"
    }
   ],
   "source": [
    "trigo_dataset[:5, :]"
   ]
  },
  {
   "cell_type": "code",
   "execution_count": 16,
   "id": "bda85707-347b-4cc5-aa38-d7e6e2aa1bc4",
   "metadata": {},
   "outputs": [],
   "source": [
    "np.savetxt(\"data/trigo.csv\", trigo_dataset, delimiter=\",\")"
   ]
  },
  {
   "cell_type": "markdown",
   "id": "10ad05a0-7f5f-4cb5-99a2-53de37fc647d",
   "metadata": {},
   "source": [
    "## Adding more elementrary functions"
   ]
  },
  {
   "cell_type": "code",
   "execution_count": 17,
   "id": "6d99971c-a819-417d-8c8e-75072c8a796d",
   "metadata": {},
   "outputs": [],
   "source": [
    "elementary = (\n",
    "              (lambda x: math.cos(x)), \n",
    "              (lambda x: math.sin(x)),\n",
    "              (lambda x: math.tan(0.5*x)),\n",
    "              (lambda x: math.exp(x)),\n",
    "              (lambda x: 1),\n",
    "              (lambda x: x),\n",
    "              (lambda x: x**2),\n",
    "              (lambda x: x**3)\n",
    ")"
   ]
  },
  {
   "cell_type": "code",
   "execution_count": 18,
   "id": "56ee6a7b-b412-48b6-9cc1-9d33683b8307",
   "metadata": {},
   "outputs": [],
   "source": [
    "antiderivatives = (\n",
    "              (lambda x: math.sin(x)),\n",
    "              (lambda x: -math.cos(x)),\n",
    "              (lambda x: -2*math.log(abs(math.cos(0.5*x)))),\n",
    "              (lambda x: math.exp(x)),\n",
    "              (lambda x: x),\n",
    "              (lambda x: (x**2)/2),\n",
    "              (lambda x: (x**3)/3),\n",
    "              (lambda x: (x**4)/4)\n",
    ")"
   ]
  },
  {
   "cell_type": "code",
   "execution_count": 19,
   "id": "7e280321-58f5-4470-a9bd-1391e5d5f333",
   "metadata": {},
   "outputs": [],
   "source": [
    "coefficients = np.random.rand(1000, 8)"
   ]
  },
  {
   "cell_type": "code",
   "execution_count": 20,
   "id": "9cf3b227-5802-41f7-bd9f-79c25f26d329",
   "metadata": {},
   "outputs": [],
   "source": [
    "values = list()\n",
    "for i in elementary:\n",
    "    row = list()\n",
    "    for j in range(-2, 3):\n",
    "        row.append(i(j))\n",
    "    values.append(row)"
   ]
  },
  {
   "cell_type": "code",
   "execution_count": 21,
   "id": "2124541c-5b2f-4a0a-b19c-9b4aa9ddcf49",
   "metadata": {},
   "outputs": [
    {
     "data": {
      "text/plain": [
       "[[-0.4161468365471424,\n",
       "  0.5403023058681398,\n",
       "  1.0,\n",
       "  0.5403023058681398,\n",
       "  -0.4161468365471424],\n",
       " [-0.9092974268256817,\n",
       "  -0.8414709848078965,\n",
       "  0.0,\n",
       "  0.8414709848078965,\n",
       "  0.9092974268256817],\n",
       " [-1.5574077246549023,\n",
       "  -0.5463024898437905,\n",
       "  0.0,\n",
       "  0.5463024898437905,\n",
       "  1.5574077246549023],\n",
       " [0.1353352832366127,\n",
       "  0.36787944117144233,\n",
       "  1.0,\n",
       "  2.718281828459045,\n",
       "  7.38905609893065],\n",
       " [1, 1, 1, 1, 1],\n",
       " [-2, -1, 0, 1, 2],\n",
       " [4, 1, 0, 1, 4],\n",
       " [-8, -1, 0, 1, 8]]"
      ]
     },
     "execution_count": 21,
     "metadata": {},
     "output_type": "execute_result"
    }
   ],
   "source": [
    "values"
   ]
  },
  {
   "cell_type": "code",
   "execution_count": 22,
   "id": "b82b1976-6cf5-4b20-bcb3-d4b104003d92",
   "metadata": {},
   "outputs": [],
   "source": [
    "values = np.array(values)"
   ]
  },
  {
   "cell_type": "code",
   "execution_count": 23,
   "id": "c96789ca-08b9-46f2-bde4-c335d253567b",
   "metadata": {},
   "outputs": [
    {
     "data": {
      "text/plain": [
       "array([[-0.41614684,  0.54030231,  1.        ,  0.54030231, -0.41614684],\n",
       "       [-0.90929743, -0.84147098,  0.        ,  0.84147098,  0.90929743],\n",
       "       [-1.55740772, -0.54630249,  0.        ,  0.54630249,  1.55740772],\n",
       "       [ 0.13533528,  0.36787944,  1.        ,  2.71828183,  7.3890561 ],\n",
       "       [ 1.        ,  1.        ,  1.        ,  1.        ,  1.        ],\n",
       "       [-2.        , -1.        ,  0.        ,  1.        ,  2.        ],\n",
       "       [ 4.        ,  1.        ,  0.        ,  1.        ,  4.        ],\n",
       "       [-8.        , -1.        ,  0.        ,  1.        ,  8.        ]])"
      ]
     },
     "execution_count": 23,
     "metadata": {},
     "output_type": "execute_result"
    }
   ],
   "source": [
    "values"
   ]
  },
  {
   "cell_type": "code",
   "execution_count": 24,
   "id": "703833ec-8876-44b9-bd61-89b38dfa0766",
   "metadata": {},
   "outputs": [],
   "source": [
    "X = coefficients.dot(values)"
   ]
  },
  {
   "cell_type": "code",
   "execution_count": 25,
   "id": "25955fb0-e471-47a7-ab32-30a51c7dc80d",
   "metadata": {},
   "outputs": [
    {
     "data": {
      "text/plain": [
       "array([[-2.40993443,  0.26699786,  1.66031879,  4.7585125 , 13.33551764],\n",
       "       [-3.20525956,  0.31449291,  1.76220838,  5.42115512, 16.9944846 ],\n",
       "       [-4.3713872 , -1.27283998,  0.6191585 ,  3.77056387, 11.29782594],\n",
       "       ...,\n",
       "       [-3.71327661, -0.6267961 ,  1.24588518,  4.61351499, 12.70635527],\n",
       "       [-3.10547081, -0.0617496 ,  1.91060831,  4.25484694,  9.62150005],\n",
       "       [-7.90851292, -1.76510767,  1.20273825,  5.25574371, 15.8663094 ]])"
      ]
     },
     "execution_count": 25,
     "metadata": {},
     "output_type": "execute_result"
    }
   ],
   "source": [
    "X"
   ]
  },
  {
   "cell_type": "markdown",
   "id": "f085f645-6b29-4ce8-9f64-0bf0e01a299c",
   "metadata": {},
   "source": [
    "### Adding noise to the dataset"
   ]
  },
  {
   "cell_type": "code",
   "execution_count": 26,
   "id": "241d12dd-f00c-44d0-814b-5029f1daca4a",
   "metadata": {},
   "outputs": [],
   "source": [
    "noise = np.random.normal(0, 0.05, (1000, 5))"
   ]
  },
  {
   "cell_type": "code",
   "execution_count": 27,
   "id": "50931f4d-40a7-4174-8a1c-538ce559ddf4",
   "metadata": {},
   "outputs": [],
   "source": [
    "X = X + noise"
   ]
  },
  {
   "cell_type": "code",
   "execution_count": 28,
   "id": "aabf80ad-1544-47cf-9b4e-5146a4061a1c",
   "metadata": {},
   "outputs": [],
   "source": [
    "simple_integrals = list()\n",
    "for i in antiderivatives:\n",
    "    simple_integrals.append(i(2) - i(-2))"
   ]
  },
  {
   "cell_type": "code",
   "execution_count": 29,
   "id": "82bdb6d1-a4c8-44fa-9515-314b8a74cef5",
   "metadata": {},
   "outputs": [
    {
     "data": {
      "text/plain": [
       "[1.8185948536513634,\n",
       " 0.0,\n",
       " 0.0,\n",
       " 7.253720815694038,\n",
       " 4,\n",
       " 0.0,\n",
       " 5.333333333333333,\n",
       " 0.0]"
      ]
     },
     "execution_count": 29,
     "metadata": {},
     "output_type": "execute_result"
    }
   ],
   "source": [
    "simple_integrals"
   ]
  },
  {
   "cell_type": "code",
   "execution_count": 30,
   "id": "dede565e-1594-4de4-ae0e-d998b3ad6acd",
   "metadata": {},
   "outputs": [],
   "source": [
    "simple_integrals = np.array(simple_integrals)"
   ]
  },
  {
   "cell_type": "code",
   "execution_count": 31,
   "id": "22f0f357-bb69-487a-9111-d33383d332b3",
   "metadata": {},
   "outputs": [
    {
     "data": {
      "text/plain": [
       "(8,)"
      ]
     },
     "execution_count": 31,
     "metadata": {},
     "output_type": "execute_result"
    }
   ],
   "source": [
    "simple_integrals.shape"
   ]
  },
  {
   "cell_type": "code",
   "execution_count": 32,
   "id": "a236c36b-c85f-44f1-af96-ed986026b864",
   "metadata": {},
   "outputs": [],
   "source": [
    "y = coefficients.dot(simple_integrals)"
   ]
  },
  {
   "cell_type": "code",
   "execution_count": 33,
   "id": "3aa7495c-3ace-4f9e-befb-46cdd2d189cf",
   "metadata": {},
   "outputs": [
    {
     "data": {
      "text/plain": [
       "(1000,)"
      ]
     },
     "execution_count": 33,
     "metadata": {},
     "output_type": "execute_result"
    }
   ],
   "source": [
    "y.shape"
   ]
  },
  {
   "cell_type": "code",
   "execution_count": 34,
   "id": "b6f59d51-bcd7-44a6-9b7a-7e007e338aaa",
   "metadata": {},
   "outputs": [],
   "source": [
    "dataset = np.concatenate([X, y.reshape(1000, 1),], axis=1)"
   ]
  },
  {
   "cell_type": "code",
   "execution_count": 35,
   "id": "97920a1c-6a1c-4700-b8f6-92eb0e1e9f05",
   "metadata": {},
   "outputs": [],
   "source": [
    "np.savetxt(\"data/elementary.csv\", dataset, delimiter=\",\")"
   ]
  },
  {
   "cell_type": "markdown",
   "id": "fb4d8251-9c83-4c32-899a-14cdb290a96c",
   "metadata": {},
   "source": [
    "## Graph generation (for medium article)"
   ]
  },
  {
   "cell_type": "code",
   "execution_count": 38,
   "id": "735d5a0e-5496-487c-90ff-bff26ac4c2c5",
   "metadata": {},
   "outputs": [
    {
     "data": {
      "image/png": "[encoded data removed]",
      "text/plain": [
       "<Figure size 640x480 with 1 Axes>"
      ]
     },
     "metadata": {},
     "output_type": "display_data"
    }
   ],
   "source": [
    "import matplotlib.pyplot as plt\n",
    "\n",
    "x = np.linspace(-2, 2, 100)\n",
    "\n",
    "some_polynomial = np.array(list(map((lambda x: 0.5*x**3-0.4*x**2-2*x+3), list(x))))\n",
    "\n",
    "plt.plot(x, some_polynomial, c='salmon')\n",
    "plt.fill_between(x, some_polynomial, color='skyblue', alpha=0.4)\n",
    "plt.grid(True)\n",
    "\n",
    "plt.savefig('graph.png')\n",
    "plt.show()"
   ]
  }
 ],
 "metadata": {
  "kernelspec": {
   "display_name": "Python 3 (ipykernel)",
   "language": "python",
   "name": "python3"
  },
  "language_info": {
   "codemirror_mode": {
    "name": "ipython",
    "version": 3
   },
   "file_extension": ".py",
   "mimetype": "text/x-python",
   "name": "python",
   "nbconvert_exporter": "python",
   "pygments_lexer": "ipython3",
   "version": "3.12.4"
  }
 },
 "nbformat": 4,
 "nbformat_minor": 5
}
